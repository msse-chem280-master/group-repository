{
 "cells": [
  {
   "cell_type": "markdown",
   "id": "dcbe917d",
   "metadata": {},
   "source": [
    "# Using Monte Carlo on molecular systems\n",
    "\n",
    "We are going to use Monte Carlo (MC) simulation to solve a chemical problem. MC simulation is used in many different fields, and one of those is molecular simulation. MC methods for molecules can be quite advanced these days, but for this bootcamp, we will be using MC to simulate noble gases.\n",
    "\n",
    "In statistical mechanics, we are interested in computing averages of thermodynamic properties as a function of atom positions an momenta. A thermodynamic average depending only on configurational properties can be computed by evaluating a multivariate integral.\n",
    "\n",
    "$$ \\left<Q\\right> = \\int_V Q\\left(\\textbf{r}^N\\right)\n",
    "\t\\rho\\left(\\textbf{r}^N\\right) d\\textbf{r}^N\n",
    "\t\\label{eq.statMechAverage} $$ \n",
    "\n",
    "where $Q\\left(\\textbf{r}^N\\right)$ is the thermodynamic quantity of interest that depends on only on the configuration, $\\rho\\left(\\textbf{r}^N\\right)$ is the probability density, and $V$ defines the volume of **configuration space** over which $\\rho$ has support.\n",
    "\n",
    "This integral is very hard to compute, even for small atomic systems. For instance, a monoatomic system of 10 atoms leads to a 30 dimensional integral. \n",
    "\n",
    "We learned in the previous lesson about using Monte Carlo to evaluate integrals. We can apply this same approach to solve this integral. There are a few extra things we have to consider, however, because of the high dimensionality of the problem. We'll worry more about exactly how to implement this MC integration tomorrow. Today's lesson will focus on the model we are going to use for our thermodynamic quantity (in our case the system potential energy). We will use this in our Monte Carlo simulation in the next lesson.\n",
    "\n",
    "## Modeling the system\n",
    "\n",
    "When modeling atomic and molecular systems, the energy of nonbonded interactions are often approximated using the **Lennard Jones Potential**. The [Lennard Jones Potential](https://en.wikipedia.org/wiki/Lennard-Jones_potential) was proposed by John Lennard-Jones in 1924 and is commonly used to model nonbonded interactions of atoms.\n",
    "\n",
    "$$ U(r) = 4 \\epsilon \\left[\\left(\\frac{\\sigma}{r}\\right)^{12} -\\left(\\frac{\\sigma}{r}\\right)^{6} \\right] $$\n",
    "\n",
    "This is a pairwise potential which is a function of distance between two atoms. It has two parameters, $\\sigma$ and $\\epsilon$, which represent the size of the particle, and the depth of the potential well (you can think of this as how strongly the particles are attracted to one another), respectively.\n",
    "\n",
    "This potential is commonly used in molecular simulation to model nonbonded interactions, not just for those of noble gases. For more complicated systems, you will have additional energy terms in addition to the LJ potential, but for our system of a Lennard Jones fluid, the is the only contribution to the potential energy. \n",
    "\n",
    "The first thing we will do is write a function which evaluates the LJ energy based on an input of distance.\n",
    "\n",
    "Commonly used parameters for simulating Argon are $\\sigma = 3.4 \\unicode{xC5} $ and $\\epsilon/k_B = 120~K$\n",
    "\n",
    "### Dealing with units\n",
    "Throughout this project, we will be working with **reduced units**. As stated above, common values are $\\sigma = 3.4 \\unicode{xC5}$ and $\\epsilon/k_B = 120~K$. When converted to SI units, these quickly become inconvenient to work with. Often, in simulation, we will use something called *reduced units* in order to make calculations more convenient. This approach essentially scales quantities by characteristic values to get them closer to unity.\n",
    "\n",
    "For example, when working with Argon, the distances we compute will be in units of $\\sigma$ instead of angstrom. \n",
    "\n",
    "Quantity    | Expression\n",
    "------------|------------\n",
    "Length      | $$L^*=L / \\sigma$$\n",
    "Density     | $$\\rho^* = N \\sigma^3 / V$$\n",
    "Energy      | $$U^* = U / \\epsilon$$\n",
    "Pressure    | $$P^* = P \\sigma^3 / \\epsilon$$\n",
    "Volume      | $$V^* = V / \\sigma^3 $$\n",
    "Temperature | $$T^* = k_{B} T / \\epsilon $$\n",
    "Time        | $$t^* = t \\sqrt{\\frac{\\epsilon}{ m \\sigma^2}}$$\n",
    "\n",
    "Conveniently for us, Lennard Jones fluids have the surprisingly pleasant behavior of possessing **universal behavior** when expressed in terms of reduced units as (you can verify this for yourself by substituting $\\sigma$ and $\\epsilon$ for their reduced unit expressions):\n",
    "\n",
    "$$ \tU^*\\left(r_{ij} \\right) = 4 \\left[\\left(\\frac{1}{r^*_{ij}}\\right)^{12} -\\left(\\frac{1}{r^*_{ij}}\\right)^{6} \\right] $$\n",
    "\n",
    "Since we know that we will need this as a function for our MC calculation, we will write a function for it to use later.\n",
    "\n",
    "Recall that in Python, we define a function using the syntax:\n",
    "\n",
    "```python\n",
    "def function_name(function_arguments):\n",
    "    ** FUNCTION WHICH USES function_arguments HERE**\n",
    "    return return_value\n",
    "```\n"
   ]
  },
  {
   "cell_type": "code",
   "execution_count": null,
   "id": "5f6d20dc",
   "metadata": {},
   "outputs": [],
   "source": [
    "# write imports here\n"
   ]
  },
  {
   "cell_type": "code",
   "execution_count": null,
   "id": "dcd1bf1b",
   "metadata": {},
   "outputs": [],
   "source": [
    "# write calculate_LJ function here\n"
   ]
  },
  {
   "cell_type": "markdown",
   "id": "acd56931",
   "metadata": {},
   "source": [
    "### Sanity checks\n",
    "\n",
    "It is always a good idea to test the expected behavior of your function, or do some \"sanity checks\". We'll think about a few qualities of the LJ potential to check if our function is reasonable.\n",
    "\n",
    "By rearranging the equation for the LJ potential, we can see a few qualities that should be true if our function is implemented correctly.\n",
    "\n",
    "**Full Expression**\n",
    "$$ U(r) = 4 \\epsilon \\left[\\left(\\frac{\\sigma}{r}\\right)^{12} -\\left(\\frac{\\sigma}{r}\\right)^{6} \\right] $$\n",
    "\n",
    "**Reduced Unit Expression**\n",
    "$$ \tU^*\\left(r_{ij} \\right) = 4 \\left[\\left(\\frac{1}{r^*_{ij}}\\right)^{12} -\\left(\\frac{1}{r^*_{ij}}\\right)^{6} \\right] $$\n",
    "\n",
    "\n",
    "1. **FOR WHAT VALUE OF r SHOULD $U(r)$ be ZERO?**.\n",
    "1. A minimum occurs at $r = 2^{1/6}\\sigma.$ In our case, we are using reduced units and $\\sigma$ is equal to one. This minimum will have a value equal to $-\\epsilon$, in our case -1. \n",
    "\n",
    "For figuring out these values, you could write out the solution on paper. For #1, you would set $U(r)=0$ and solve for $r$. For #2,you would take the derivative, set it equal to zero and solve for $r$. You could also use [Wolfram Alpha](https://www.wolframalpha.com/input/?i=graph+4*%28%281%2Fr%29%5E12+-+%281%2Fr%29%5E6%29++from+r+%3D+0.9+to+r%3D3).\n",
    "\n",
    "### Python Concept: Assert Statements\n",
    "We'll check these two test statements using something called an `assert` statement in Python. In an `assert` statement, you assert that something is `True`. If the statement following the word `assert` is `True`, nothing happens. However, if the statement is `False`, you will get an assertion error.\n"
   ]
  },
  {
   "cell_type": "code",
   "execution_count": null,
   "id": "0ee2c036",
   "metadata": {},
   "outputs": [],
   "source": []
  },
  {
   "cell_type": "code",
   "execution_count": null,
   "id": "d9205d3a",
   "metadata": {},
   "outputs": [],
   "source": []
  },
  {
   "cell_type": "code",
   "execution_count": null,
   "id": "3f6c26a2",
   "metadata": {},
   "outputs": [],
   "source": []
  },
  {
   "cell_type": "markdown",
   "id": "f9f89c81",
   "metadata": {},
   "source": [
    "### Python Style - Docstrings\n",
    "\n",
    "Part of this class is cultivating good coding habits. A \"best practice\" when writing your code is to make sure that your code is adequately documented. This could be through code comments, but a very good way to document your code is to use something called `docstrings` in Python. In this course, we may not always write `docstrings` right away, but you should always write them.\n",
    "\n",
    "A `docstring`, or `documentation string` is a string which follows the function definition and describes a function's inputs and behavior. If you write `docstrings`, you will have a much easier time returning to your code, sharing it with others, and creating online documentation. For Python, there is a tool called `Sphinx` which can parse your code for `docstrings` and build web documentation for you (we will not discuss this in this course).\n",
    "\n",
    "We will write `Numpy` style `docstrings`. Consider our `calculate_LJ` function with a docstring. You should rewrite your `cacluate_LJ` function in the next cell or scroll up to add a docstring to your original function."
   ]
  },
  {
   "cell_type": "code",
   "execution_count": null,
   "id": "4668142f",
   "metadata": {},
   "outputs": [],
   "source": []
  },
  {
   "cell_type": "markdown",
   "id": "e2e40084",
   "metadata": {},
   "source": [
    "### Lennard Jones Energy of Atomic System\n",
    "\n",
    "When applying the LJ potential to a set of atomic coordinates, the total potential energy of the system is equal to the sum of the LJ energy over all pairwise interactions:\n",
    "\n",
    "$$ U \\left( \\textbf{r}^N \\right) = \\sum_{i < j} U \\left( r_{ij} \\right) $$\n",
    "\n",
    "We can write some steps out for calculating the total Lennard Jones potential energy for a system.\n",
    "\n",
    "1. Calculate the distance between each particle and every other particle in the system.\n",
    "1. Evaluate the Lennard Jones potential for each distance\n",
    "1. Sum the energies to get the total potential energy.\n",
    "\n",
    "From this procedure, we can see that we will need a few more functions. \n",
    "\n",
    "1. We will need a function that can calculate a distance between two particles based on their coordinates. \n",
    "2. We will need to loop over particle pairs.\n",
    "\n",
    "So that we have a system where we know the answer, we will use some sample systems and benchmarks from the National Institutes of Standards and Technology (NIST). Some sample configurations have been included with your lesson materials.\n",
    "\n",
    "> ### Exercise\n",
    "> Write a function called `calculate_distance` which takes in two coordinates as lists ([x, y, z]), and returns the distance between the two points.\n",
    ">\n",
    "> Use the provided docstring to write your function:"
   ]
  },
  {
   "cell_type": "code",
   "execution_count": null,
   "id": "37624379",
   "metadata": {},
   "outputs": [],
   "source": [
    "def calculate_distance(coord1, coord2):\n",
    "    \"\"\"\n",
    "    Calculate the distance between two 3D coordinates.\n",
    "   \n",
    "    Parameters\n",
    "    ----------\n",
    "    coord1, coord2: list\n",
    "        The atomic coordinates\n",
    "    \n",
    "    Returns\n",
    "    -------\n",
    "    distance: float\n",
    "        The distance between the two points.\n",
    "    \"\"\"\n"
   ]
  },
  {
   "cell_type": "code",
   "execution_count": null,
   "id": "7d082f90",
   "metadata": {},
   "outputs": [],
   "source": [
    "## Check your function with assert statements\n"
   ]
  },
  {
   "cell_type": "code",
   "execution_count": null,
   "id": "f02eb850",
   "metadata": {},
   "outputs": [],
   "source": [
    "## Calculate total energy function here\n"
   ]
  },
  {
   "cell_type": "code",
   "execution_count": null,
   "id": "10ebfcae",
   "metadata": {},
   "outputs": [],
   "source": []
  },
  {
   "cell_type": "code",
   "execution_count": null,
   "id": "a3c42ce2",
   "metadata": {},
   "outputs": [],
   "source": []
  },
  {
   "cell_type": "code",
   "execution_count": null,
   "id": "4b18b2de",
   "metadata": {},
   "outputs": [],
   "source": [
    "# Provided function\n",
    "\n",
    "def read_xyz(filepath):\n",
    "    \"\"\"\n",
    "    Reads coordinates from an xyz file.\n",
    "    \n",
    "    Parameters\n",
    "    ----------\n",
    "    filepath : str\n",
    "       The path to the xyz file to be processed.\n",
    "       \n",
    "    Returns\n",
    "    -------\n",
    "    atomic_coordinates : list\n",
    "        A two dimensional list containing atomic coordinates\n",
    "    \"\"\"\n",
    "    \n",
    "    with open(filepath) as f:\n",
    "        box_length = float(f.readline().split()[0])\n",
    "        num_atoms = float(f.readline())\n",
    "        coordinates = f.readlines()\n",
    "    \n",
    "    atomic_coordinates = []\n",
    "    \n",
    "    for atom in coordinates:\n",
    "        split_atoms = atom.split()\n",
    "        \n",
    "        float_coords = []\n",
    "        \n",
    "        # We split this way to get rid of the atom label.\n",
    "        for coord in split_atoms[1:]:\n",
    "            float_coords.append(float(coord))\n",
    "            \n",
    "        atomic_coordinates.append(float_coords)\n",
    "        \n",
    "    \n",
    "    return atomic_coordinates, box_length\n"
   ]
  },
  {
   "cell_type": "code",
   "execution_count": null,
   "id": "b1706b19",
   "metadata": {},
   "outputs": [],
   "source": [
    "## Read in first sample configuration file here"
   ]
  },
  {
   "cell_type": "code",
   "execution_count": null,
   "id": "69b3690f",
   "metadata": {},
   "outputs": [],
   "source": [
    "## Assertions here"
   ]
  },
  {
   "cell_type": "code",
   "execution_count": null,
   "id": "85ded383",
   "metadata": {},
   "outputs": [],
   "source": [
    "## Check total energy here"
   ]
  }
 ],
 "metadata": {
  "kernelspec": {
   "display_name": "Python 3",
   "language": "python",
   "name": "python3"
  },
  "language_info": {
   "codemirror_mode": {
    "name": "ipython",
    "version": 3
   },
   "file_extension": ".py",
   "mimetype": "text/x-python",
   "name": "python",
   "nbconvert_exporter": "python",
   "pygments_lexer": "ipython3",
   "version": "3.6.13"
  }
 },
 "nbformat": 4,
 "nbformat_minor": 5
}
